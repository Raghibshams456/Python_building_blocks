{
 "cells": [
  {
   "cell_type": "code",
   "execution_count": 1,
   "metadata": {},
   "outputs": [],
   "source": [
    "import pandas as pd"
   ]
  },
  {
   "cell_type": "code",
   "execution_count": 2,
   "metadata": {},
   "outputs": [],
   "source": [
    "#read the dataset\n",
    "df = pd.read_csv(r'forest fires in brazil.csv',encoding='latin1')"
   ]
  },
  {
   "cell_type": "code",
   "execution_count": 3,
   "metadata": {},
   "outputs": [
    {
     "data": {
      "text/html": [
       "<div>\n",
       "<style scoped>\n",
       "    .dataframe tbody tr th:only-of-type {\n",
       "        vertical-align: middle;\n",
       "    }\n",
       "\n",
       "    .dataframe tbody tr th {\n",
       "        vertical-align: top;\n",
       "    }\n",
       "\n",
       "    .dataframe thead th {\n",
       "        text-align: right;\n",
       "    }\n",
       "</style>\n",
       "<table border=\"1\" class=\"dataframe\">\n",
       "  <thead>\n",
       "    <tr style=\"text-align: right;\">\n",
       "      <th></th>\n",
       "      <th>year</th>\n",
       "      <th>state</th>\n",
       "      <th>month</th>\n",
       "      <th>number</th>\n",
       "      <th>date</th>\n",
       "    </tr>\n",
       "  </thead>\n",
       "  <tbody>\n",
       "    <tr>\n",
       "      <th>0</th>\n",
       "      <td>1998</td>\n",
       "      <td>Acre</td>\n",
       "      <td>Janeiro</td>\n",
       "      <td>0.0</td>\n",
       "      <td>1998-01-01</td>\n",
       "    </tr>\n",
       "    <tr>\n",
       "      <th>1</th>\n",
       "      <td>1999</td>\n",
       "      <td>Acre</td>\n",
       "      <td>Janeiro</td>\n",
       "      <td>0.0</td>\n",
       "      <td>1999-01-01</td>\n",
       "    </tr>\n",
       "    <tr>\n",
       "      <th>2</th>\n",
       "      <td>2000</td>\n",
       "      <td>Acre</td>\n",
       "      <td>Janeiro</td>\n",
       "      <td>0.0</td>\n",
       "      <td>2000-01-01</td>\n",
       "    </tr>\n",
       "    <tr>\n",
       "      <th>3</th>\n",
       "      <td>2001</td>\n",
       "      <td>Acre</td>\n",
       "      <td>Janeiro</td>\n",
       "      <td>0.0</td>\n",
       "      <td>2001-01-01</td>\n",
       "    </tr>\n",
       "    <tr>\n",
       "      <th>4</th>\n",
       "      <td>2002</td>\n",
       "      <td>Acre</td>\n",
       "      <td>Janeiro</td>\n",
       "      <td>0.0</td>\n",
       "      <td>2002-01-01</td>\n",
       "    </tr>\n",
       "    <tr>\n",
       "      <th>5</th>\n",
       "      <td>2003</td>\n",
       "      <td>Acre</td>\n",
       "      <td>Janeiro</td>\n",
       "      <td>10.0</td>\n",
       "      <td>2003-01-01</td>\n",
       "    </tr>\n",
       "    <tr>\n",
       "      <th>6</th>\n",
       "      <td>2004</td>\n",
       "      <td>Acre</td>\n",
       "      <td>Janeiro</td>\n",
       "      <td>0.0</td>\n",
       "      <td>2004-01-01</td>\n",
       "    </tr>\n",
       "    <tr>\n",
       "      <th>7</th>\n",
       "      <td>2005</td>\n",
       "      <td>Acre</td>\n",
       "      <td>Janeiro</td>\n",
       "      <td>12.0</td>\n",
       "      <td>2005-01-01</td>\n",
       "    </tr>\n",
       "    <tr>\n",
       "      <th>8</th>\n",
       "      <td>2006</td>\n",
       "      <td>Acre</td>\n",
       "      <td>Janeiro</td>\n",
       "      <td>4.0</td>\n",
       "      <td>2006-01-01</td>\n",
       "    </tr>\n",
       "    <tr>\n",
       "      <th>9</th>\n",
       "      <td>2007</td>\n",
       "      <td>Acre</td>\n",
       "      <td>Janeiro</td>\n",
       "      <td>0.0</td>\n",
       "      <td>2007-01-01</td>\n",
       "    </tr>\n",
       "  </tbody>\n",
       "</table>\n",
       "</div>"
      ],
      "text/plain": [
       "   year state    month  number        date\n",
       "0  1998  Acre  Janeiro     0.0  1998-01-01\n",
       "1  1999  Acre  Janeiro     0.0  1999-01-01\n",
       "2  2000  Acre  Janeiro     0.0  2000-01-01\n",
       "3  2001  Acre  Janeiro     0.0  2001-01-01\n",
       "4  2002  Acre  Janeiro     0.0  2002-01-01\n",
       "5  2003  Acre  Janeiro    10.0  2003-01-01\n",
       "6  2004  Acre  Janeiro     0.0  2004-01-01\n",
       "7  2005  Acre  Janeiro    12.0  2005-01-01\n",
       "8  2006  Acre  Janeiro     4.0  2006-01-01\n",
       "9  2007  Acre  Janeiro     0.0  2007-01-01"
      ]
     },
     "execution_count": 3,
     "metadata": {},
     "output_type": "execute_result"
    }
   ],
   "source": [
    "#getting to know the dataset\n",
    "df.head(10)"
   ]
  },
  {
   "cell_type": "code",
   "execution_count": 4,
   "metadata": {},
   "outputs": [
    {
     "data": {
      "text/html": [
       "<div>\n",
       "<style scoped>\n",
       "    .dataframe tbody tr th:only-of-type {\n",
       "        vertical-align: middle;\n",
       "    }\n",
       "\n",
       "    .dataframe tbody tr th {\n",
       "        vertical-align: top;\n",
       "    }\n",
       "\n",
       "    .dataframe thead th {\n",
       "        text-align: right;\n",
       "    }\n",
       "</style>\n",
       "<table border=\"1\" class=\"dataframe\">\n",
       "  <thead>\n",
       "    <tr style=\"text-align: right;\">\n",
       "      <th></th>\n",
       "      <th>year</th>\n",
       "      <th>state</th>\n",
       "      <th>month</th>\n",
       "      <th>number</th>\n",
       "      <th>date</th>\n",
       "    </tr>\n",
       "  </thead>\n",
       "  <tbody>\n",
       "    <tr>\n",
       "      <th>6444</th>\n",
       "      <td>2007</td>\n",
       "      <td>Tocantins</td>\n",
       "      <td>Dezembro</td>\n",
       "      <td>13.0</td>\n",
       "      <td>2007-01-01</td>\n",
       "    </tr>\n",
       "    <tr>\n",
       "      <th>6445</th>\n",
       "      <td>2008</td>\n",
       "      <td>Tocantins</td>\n",
       "      <td>Dezembro</td>\n",
       "      <td>7.0</td>\n",
       "      <td>2008-01-01</td>\n",
       "    </tr>\n",
       "    <tr>\n",
       "      <th>6446</th>\n",
       "      <td>2009</td>\n",
       "      <td>Tocantins</td>\n",
       "      <td>Dezembro</td>\n",
       "      <td>46.0</td>\n",
       "      <td>2009-01-01</td>\n",
       "    </tr>\n",
       "    <tr>\n",
       "      <th>6447</th>\n",
       "      <td>2010</td>\n",
       "      <td>Tocantins</td>\n",
       "      <td>Dezembro</td>\n",
       "      <td>72.0</td>\n",
       "      <td>2010-01-01</td>\n",
       "    </tr>\n",
       "    <tr>\n",
       "      <th>6448</th>\n",
       "      <td>2011</td>\n",
       "      <td>Tocantins</td>\n",
       "      <td>Dezembro</td>\n",
       "      <td>105.0</td>\n",
       "      <td>2011-01-01</td>\n",
       "    </tr>\n",
       "    <tr>\n",
       "      <th>6449</th>\n",
       "      <td>2012</td>\n",
       "      <td>Tocantins</td>\n",
       "      <td>Dezembro</td>\n",
       "      <td>128.0</td>\n",
       "      <td>2012-01-01</td>\n",
       "    </tr>\n",
       "    <tr>\n",
       "      <th>6450</th>\n",
       "      <td>2013</td>\n",
       "      <td>Tocantins</td>\n",
       "      <td>Dezembro</td>\n",
       "      <td>85.0</td>\n",
       "      <td>2013-01-01</td>\n",
       "    </tr>\n",
       "    <tr>\n",
       "      <th>6451</th>\n",
       "      <td>2014</td>\n",
       "      <td>Tocantins</td>\n",
       "      <td>Dezembro</td>\n",
       "      <td>223.0</td>\n",
       "      <td>2014-01-01</td>\n",
       "    </tr>\n",
       "    <tr>\n",
       "      <th>6452</th>\n",
       "      <td>2015</td>\n",
       "      <td>Tocantins</td>\n",
       "      <td>Dezembro</td>\n",
       "      <td>373.0</td>\n",
       "      <td>2015-01-01</td>\n",
       "    </tr>\n",
       "    <tr>\n",
       "      <th>6453</th>\n",
       "      <td>2016</td>\n",
       "      <td>Tocantins</td>\n",
       "      <td>Dezembro</td>\n",
       "      <td>119.0</td>\n",
       "      <td>2016-01-01</td>\n",
       "    </tr>\n",
       "  </tbody>\n",
       "</table>\n",
       "</div>"
      ],
      "text/plain": [
       "      year      state     month  number        date\n",
       "6444  2007  Tocantins  Dezembro    13.0  2007-01-01\n",
       "6445  2008  Tocantins  Dezembro     7.0  2008-01-01\n",
       "6446  2009  Tocantins  Dezembro    46.0  2009-01-01\n",
       "6447  2010  Tocantins  Dezembro    72.0  2010-01-01\n",
       "6448  2011  Tocantins  Dezembro   105.0  2011-01-01\n",
       "6449  2012  Tocantins  Dezembro   128.0  2012-01-01\n",
       "6450  2013  Tocantins  Dezembro    85.0  2013-01-01\n",
       "6451  2014  Tocantins  Dezembro   223.0  2014-01-01\n",
       "6452  2015  Tocantins  Dezembro   373.0  2015-01-01\n",
       "6453  2016  Tocantins  Dezembro   119.0  2016-01-01"
      ]
     },
     "execution_count": 4,
     "metadata": {},
     "output_type": "execute_result"
    }
   ],
   "source": [
    "df.tail(10)"
   ]
  },
  {
   "cell_type": "code",
   "execution_count": 5,
   "metadata": {},
   "outputs": [
    {
     "name": "stdout",
     "output_type": "stream",
     "text": [
      "<class 'pandas.core.frame.DataFrame'>\n",
      "RangeIndex: 6454 entries, 0 to 6453\n",
      "Data columns (total 5 columns):\n",
      "year      6454 non-null int64\n",
      "state     6454 non-null object\n",
      "month     6454 non-null object\n",
      "number    6454 non-null float64\n",
      "date      6454 non-null object\n",
      "dtypes: float64(1), int64(1), object(3)\n",
      "memory usage: 252.2+ KB\n"
     ]
    }
   ],
   "source": [
    "#number of observations\n",
    "df.info()"
   ]
  },
  {
   "cell_type": "code",
   "execution_count": 7,
   "metadata": {},
   "outputs": [
    {
     "data": {
      "text/plain": [
       "5"
      ]
     },
     "execution_count": 7,
     "metadata": {},
     "output_type": "execute_result"
    }
   ],
   "source": [
    "#number of columns\n",
    "df.shape[1]"
   ]
  },
  {
   "cell_type": "code",
   "execution_count": 8,
   "metadata": {},
   "outputs": [
    {
     "data": {
      "text/plain": [
       "Index(['year', 'state', 'month', 'number', 'date'], dtype='object')"
      ]
     },
     "execution_count": 8,
     "metadata": {},
     "output_type": "execute_result"
    }
   ],
   "source": [
    "#names of the columns\n",
    "df.columns"
   ]
  },
  {
   "cell_type": "code",
   "execution_count": 11,
   "metadata": {},
   "outputs": [
    {
     "data": {
      "text/plain": [
       "RangeIndex(start=0, stop=6454, step=1)"
      ]
     },
     "execution_count": 11,
     "metadata": {},
     "output_type": "execute_result"
    }
   ],
   "source": [
    "#how is the dataset indexed?\n",
    "df.index"
   ]
  },
  {
   "cell_type": "code",
   "execution_count": 12,
   "metadata": {},
   "outputs": [
    {
     "data": {
      "text/plain": [
       "year        int64\n",
       "state      object\n",
       "month      object\n",
       "number    float64\n",
       "date       object\n",
       "dtype: object"
      ]
     },
     "execution_count": 12,
     "metadata": {},
     "output_type": "execute_result"
    }
   ],
   "source": [
    "#datatype of each column\n",
    "df.dtypes"
   ]
  },
  {
   "cell_type": "code",
   "execution_count": 13,
   "metadata": {},
   "outputs": [
    {
     "data": {
      "text/plain": [
       "year      0\n",
       "state     0\n",
       "month     0\n",
       "number    0\n",
       "date      0\n",
       "dtype: int64"
      ]
     },
     "execution_count": 13,
     "metadata": {},
     "output_type": "execute_result"
    }
   ],
   "source": [
    "#check if any entries are missing\n",
    "df.isnull().sum()"
   ]
  },
  {
   "cell_type": "code",
   "execution_count": 16,
   "metadata": {},
   "outputs": [],
   "source": [
    "#drop unrequired columns like date\n",
    "df.drop([\"date\"],axis=1, inplace=True)"
   ]
  },
  {
   "cell_type": "code",
   "execution_count": 17,
   "metadata": {},
   "outputs": [
    {
     "data": {
      "text/plain": [
       "array(['Janeiro', 'Fevereiro', 'Março', 'Abril', 'Maio', 'Junho', 'Julho',\n",
       "       'Agosto', 'Setembro', 'Outubro', 'Novembro', 'Dezembro'],\n",
       "      dtype=object)"
      ]
     },
     "execution_count": 17,
     "metadata": {},
     "output_type": "execute_result"
    }
   ],
   "source": [
    "#checking unique months\n",
    "\n",
    "df.month.unique()"
   ]
  },
  {
   "cell_type": "code",
   "execution_count": 20,
   "metadata": {},
   "outputs": [
    {
     "data": {
      "text/plain": [
       "array(['Acre', 'Alagoas', 'Amapa', 'Amazonas', 'Bahia', 'Ceara',\n",
       "       'Distrito Federal', 'Espirito Santo', 'Goias', 'Maranhao',\n",
       "       'Mato Grosso', 'Minas Gerais', 'Pará', 'Paraiba', 'Pernambuco',\n",
       "       'Piau', 'Rio', 'Rondonia', 'Roraima', 'Santa Catarina',\n",
       "       'Sao Paulo', 'Sergipe', 'Tocantins'], dtype=object)"
      ]
     },
     "execution_count": 20,
     "metadata": {},
     "output_type": "execute_result"
    }
   ],
   "source": [
    "#unique states\n",
    "states = df.state.unique()\n",
    "states"
   ]
  },
  {
   "cell_type": "code",
   "execution_count": 21,
   "metadata": {},
   "outputs": [
    {
     "data": {
      "text/plain": [
       "array([1998, 1999, 2000, 2001, 2002, 2003, 2004, 2005, 2006, 2007, 2008,\n",
       "       2009, 2010, 2011, 2012, 2013, 2014, 2015, 2016, 2017], dtype=int64)"
      ]
     },
     "execution_count": 21,
     "metadata": {},
     "output_type": "execute_result"
    }
   ],
   "source": [
    "#unique years \n",
    "years = df.year.unique()\n",
    "years"
   ]
  },
  {
   "cell_type": "code",
   "execution_count": 22,
   "metadata": {},
   "outputs": [
    {
     "data": {
      "text/plain": [
       "Rio                 717\n",
       "Paraiba             478\n",
       "Mato Grosso         478\n",
       "Alagoas             240\n",
       "Acre                239\n",
       "Ceara               239\n",
       "Tocantins           239\n",
       "Pará                239\n",
       "Sao Paulo           239\n",
       "Minas Gerais        239\n",
       "Espirito Santo      239\n",
       "Pernambuco          239\n",
       "Distrito Federal    239\n",
       "Sergipe             239\n",
       "Rondonia            239\n",
       "Bahia               239\n",
       "Goias               239\n",
       "Maranhao            239\n",
       "Santa Catarina      239\n",
       "Roraima             239\n",
       "Amapa               239\n",
       "Piau                239\n",
       "Amazonas            239\n",
       "Name: state, dtype: int64"
      ]
     },
     "execution_count": 22,
     "metadata": {},
     "output_type": "execute_result"
    }
   ],
   "source": [
    "#states with highest to lowest number of forest fires in dataset\n",
    "df.state.value_counts()"
   ]
  },
  {
   "cell_type": "code",
   "execution_count": 24,
   "metadata": {},
   "outputs": [
    {
     "data": {
      "text/plain": [
       "Janeiro      541\n",
       "Fevereiro    540\n",
       "Maio         540\n",
       "Agosto       540\n",
       "Abril        540\n",
       "Novembro     540\n",
       "Junho        540\n",
       "Setembro     540\n",
       "Julho        540\n",
       "Março        540\n",
       "Outubro      540\n",
       "Dezembro     513\n",
       "Name: month, dtype: int64"
      ]
     },
     "execution_count": 24,
     "metadata": {},
     "output_type": "execute_result"
    }
   ],
   "source": [
    "#month with highest to lowest number of forest fires\n",
    "df.month.value_counts()"
   ]
  },
  {
   "cell_type": "code",
   "execution_count": 25,
   "metadata": {},
   "outputs": [
    {
     "data": {
      "text/html": [
       "<div>\n",
       "<style scoped>\n",
       "    .dataframe tbody tr th:only-of-type {\n",
       "        vertical-align: middle;\n",
       "    }\n",
       "\n",
       "    .dataframe tbody tr th {\n",
       "        vertical-align: top;\n",
       "    }\n",
       "\n",
       "    .dataframe thead th {\n",
       "        text-align: right;\n",
       "    }\n",
       "</style>\n",
       "<table border=\"1\" class=\"dataframe\">\n",
       "  <thead>\n",
       "    <tr style=\"text-align: right;\">\n",
       "      <th></th>\n",
       "      <th>year</th>\n",
       "      <th>state</th>\n",
       "      <th>month</th>\n",
       "      <th>number</th>\n",
       "    </tr>\n",
       "  </thead>\n",
       "  <tbody>\n",
       "    <tr>\n",
       "      <th>count</th>\n",
       "      <td>6454.000000</td>\n",
       "      <td>6454</td>\n",
       "      <td>6454</td>\n",
       "      <td>6454.000000</td>\n",
       "    </tr>\n",
       "    <tr>\n",
       "      <th>unique</th>\n",
       "      <td>NaN</td>\n",
       "      <td>23</td>\n",
       "      <td>12</td>\n",
       "      <td>NaN</td>\n",
       "    </tr>\n",
       "    <tr>\n",
       "      <th>top</th>\n",
       "      <td>NaN</td>\n",
       "      <td>Rio</td>\n",
       "      <td>Janeiro</td>\n",
       "      <td>NaN</td>\n",
       "    </tr>\n",
       "    <tr>\n",
       "      <th>freq</th>\n",
       "      <td>NaN</td>\n",
       "      <td>717</td>\n",
       "      <td>541</td>\n",
       "      <td>NaN</td>\n",
       "    </tr>\n",
       "    <tr>\n",
       "      <th>mean</th>\n",
       "      <td>2007.461729</td>\n",
       "      <td>NaN</td>\n",
       "      <td>NaN</td>\n",
       "      <td>108.293163</td>\n",
       "    </tr>\n",
       "    <tr>\n",
       "      <th>std</th>\n",
       "      <td>5.746654</td>\n",
       "      <td>NaN</td>\n",
       "      <td>NaN</td>\n",
       "      <td>190.812242</td>\n",
       "    </tr>\n",
       "    <tr>\n",
       "      <th>min</th>\n",
       "      <td>1998.000000</td>\n",
       "      <td>NaN</td>\n",
       "      <td>NaN</td>\n",
       "      <td>0.000000</td>\n",
       "    </tr>\n",
       "    <tr>\n",
       "      <th>25%</th>\n",
       "      <td>2002.000000</td>\n",
       "      <td>NaN</td>\n",
       "      <td>NaN</td>\n",
       "      <td>3.000000</td>\n",
       "    </tr>\n",
       "    <tr>\n",
       "      <th>50%</th>\n",
       "      <td>2007.000000</td>\n",
       "      <td>NaN</td>\n",
       "      <td>NaN</td>\n",
       "      <td>24.000000</td>\n",
       "    </tr>\n",
       "    <tr>\n",
       "      <th>75%</th>\n",
       "      <td>2012.000000</td>\n",
       "      <td>NaN</td>\n",
       "      <td>NaN</td>\n",
       "      <td>113.000000</td>\n",
       "    </tr>\n",
       "    <tr>\n",
       "      <th>max</th>\n",
       "      <td>2017.000000</td>\n",
       "      <td>NaN</td>\n",
       "      <td>NaN</td>\n",
       "      <td>998.000000</td>\n",
       "    </tr>\n",
       "  </tbody>\n",
       "</table>\n",
       "</div>"
      ],
      "text/plain": [
       "               year state    month       number\n",
       "count   6454.000000  6454     6454  6454.000000\n",
       "unique          NaN    23       12          NaN\n",
       "top             NaN   Rio  Janeiro          NaN\n",
       "freq            NaN   717      541          NaN\n",
       "mean    2007.461729   NaN      NaN   108.293163\n",
       "std        5.746654   NaN      NaN   190.812242\n",
       "min     1998.000000   NaN      NaN     0.000000\n",
       "25%     2002.000000   NaN      NaN     3.000000\n",
       "50%     2007.000000   NaN      NaN    24.000000\n",
       "75%     2012.000000   NaN      NaN   113.000000\n",
       "max     2017.000000   NaN      NaN   998.000000"
      ]
     },
     "execution_count": 25,
     "metadata": {},
     "output_type": "execute_result"
    }
   ],
   "source": [
    "#summarize all columns\n",
    "df.describe(include = 'all')"
   ]
  },
  {
   "cell_type": "code",
   "execution_count": 26,
   "metadata": {},
   "outputs": [
    {
     "data": {
      "text/plain": [
       "count     6454\n",
       "unique      23\n",
       "top        Rio\n",
       "freq       717\n",
       "Name: state, dtype: object"
      ]
     },
     "execution_count": 26,
     "metadata": {},
     "output_type": "execute_result"
    }
   ],
   "source": [
    "#summarize only state column\n",
    "\n",
    "df.state.describe()"
   ]
  },
  {
   "cell_type": "code",
   "execution_count": 28,
   "metadata": {},
   "outputs": [
    {
     "name": "stdout",
     "output_type": "stream",
     "text": [
      "[1998 1999 2000 2001 2002 2003 2004 2005 2006 2007 2008 2009 2010 2011\n",
      " 2012 2013 2014 2015 2016 2017]\n"
     ]
    },
    {
     "data": {
      "text/plain": [
       "[{'state': 'Acre', 'count_fire': 333.0},\n",
       " {'state': 'Alagoas', 'count_fire': 172.0},\n",
       " {'state': 'Amapa', 'count_fire': 101.0},\n",
       " {'state': 'Amazonas', 'count_fire': 1061.0},\n",
       " {'state': 'Bahia', 'count_fire': 1197.582},\n",
       " {'state': 'Ceara', 'count_fire': 1688.0},\n",
       " {'state': 'Distrito Federal', 'count_fire': 46.0},\n",
       " {'state': 'Espirito Santo', 'count_fire': 240.0},\n",
       " {'state': 'Goias', 'count_fire': 1910.0959999999998},\n",
       " {'state': 'Maranhao', 'count_fire': 1276.442},\n",
       " {'state': 'Mato Grosso', 'count_fire': 2979.3990000000003},\n",
       " {'state': 'Minas Gerais', 'count_fire': 997.2390000000001},\n",
       " {'state': 'Pará', 'count_fire': 2192.3050000000003},\n",
       " {'state': 'Paraiba', 'count_fire': 3437.0},\n",
       " {'state': 'Pernambuco', 'count_fire': 463.0},\n",
       " {'state': 'Piau', 'count_fire': 2015.438},\n",
       " {'state': 'Rio', 'count_fire': 1030.11},\n",
       " {'state': 'Rondonia', 'count_fire': 208.922},\n",
       " {'state': 'Roraima', 'count_fire': 220.0},\n",
       " {'state': 'Santa Catarina', 'count_fire': 364.0},\n",
       " {'state': 'Sao Paulo', 'count_fire': 4249.211},\n",
       " {'state': 'Sergipe', 'count_fire': 93.0},\n",
       " {'state': 'Tocantins', 'count_fire': 608.077}]"
      ]
     },
     "execution_count": 28,
     "metadata": {},
     "output_type": "execute_result"
    }
   ],
   "source": [
    "#total number of forest area affected grouped by states for year 1998\n",
    "\n",
    "years= df.year.unique()\n",
    "print(years)\n",
    "\n",
    "year_info = df[df.year == years[0]]#year[0] indicates year 1998, change index to calculate later years\n",
    "year_info.head(12)\n",
    "\n",
    "single_year_state = []\n",
    "\n",
    "for state in states:\n",
    "    state_name = state\n",
    "    count_fire = year_info[year_info['state'] == state].number.sum()\n",
    "    obj = {\"state\":state_name, \"count_fire\":count_fire}\n",
    "    single_year_state.append(obj)\n",
    "    \n",
    "single_year_state"
   ]
  },
  {
   "cell_type": "code",
   "execution_count": 29,
   "metadata": {},
   "outputs": [
    {
     "data": {
      "text/plain": [
       "[{'state': 'Acre', 'count_fire': 333.0},\n",
       " {'state': 'Alagoas', 'count_fire': 172.0},\n",
       " {'state': 'Amapa', 'count_fire': 101.0},\n",
       " {'state': 'Amazonas', 'count_fire': 1061.0},\n",
       " {'state': 'Bahia', 'count_fire': 1197.582},\n",
       " {'state': 'Ceara', 'count_fire': 1688.0},\n",
       " {'state': 'Distrito Federal', 'count_fire': 46.0},\n",
       " {'state': 'Espirito Santo', 'count_fire': 240.0},\n",
       " {'state': 'Goias', 'count_fire': 1910.0959999999998},\n",
       " {'state': 'Maranhao', 'count_fire': 1276.442},\n",
       " {'state': 'Mato Grosso', 'count_fire': 2979.3990000000003},\n",
       " {'state': 'Minas Gerais', 'count_fire': 997.2390000000001},\n",
       " {'state': 'Pará', 'count_fire': 2192.3050000000003},\n",
       " {'state': 'Paraiba', 'count_fire': 3437.0},\n",
       " {'state': 'Pernambuco', 'count_fire': 463.0},\n",
       " {'state': 'Piau', 'count_fire': 2015.438},\n",
       " {'state': 'Rio', 'count_fire': 1030.11},\n",
       " {'state': 'Rondonia', 'count_fire': 208.922},\n",
       " {'state': 'Roraima', 'count_fire': 220.0},\n",
       " {'state': 'Santa Catarina', 'count_fire': 364.0},\n",
       " {'state': 'Sao Paulo', 'count_fire': 4249.211},\n",
       " {'state': 'Sergipe', 'count_fire': 93.0},\n",
       " {'state': 'Tocantins', 'count_fire': 608.077}]"
      ]
     },
     "execution_count": 29,
     "metadata": {},
     "output_type": "execute_result"
    }
   ],
   "source": [
    "#year 1999\n",
    "\n",
    "year_info = df[df.year == years[1]]#year[1] indicates year 1999, change index to calculate later years\n",
    "year_info.head(12)\n",
    "\n",
    "single_year_state = []\n",
    "\n",
    "for state in states:\n",
    "    state_name = state\n",
    "    count_fire = year_info[year_info['state'] == state].number.sum()\n",
    "    obj = {\"state\":state_name, \"count_fire\":count_fire}\n",
    "    single_year_state.append(obj)\n",
    "    \n",
    "single_year_state"
   ]
  },
  {
   "cell_type": "code",
   "execution_count": 30,
   "metadata": {},
   "outputs": [
    {
     "data": {
      "text/plain": [
       "[{'state': 'Acre', 'count_fire': 434.0},\n",
       " {'state': 'Alagoas', 'count_fire': 123.0},\n",
       " {'state': 'Amapa', 'count_fire': 253.0},\n",
       " {'state': 'Amazonas', 'count_fire': 853.0},\n",
       " {'state': 'Bahia', 'count_fire': 1378.635},\n",
       " {'state': 'Ceara', 'count_fire': 2211.0},\n",
       " {'state': 'Distrito Federal', 'count_fire': 48.0},\n",
       " {'state': 'Espirito Santo', 'count_fire': 175.0},\n",
       " {'state': 'Goias', 'count_fire': 2516.2929999999997},\n",
       " {'state': 'Maranhao', 'count_fire': 1243.747},\n",
       " {'state': 'Mato Grosso', 'count_fire': 3897.266},\n",
       " {'state': 'Minas Gerais', 'count_fire': 1493.0339999999999},\n",
       " {'state': 'Pará', 'count_fire': 794.4299999999998},\n",
       " {'state': 'Paraiba', 'count_fire': 2804.0},\n",
       " {'state': 'Pernambuco', 'count_fire': 691.0},\n",
       " {'state': 'Piau', 'count_fire': 1111.6570000000002},\n",
       " {'state': 'Rio', 'count_fire': 650.0},\n",
       " {'state': 'Rondonia', 'count_fire': 867.635},\n",
       " {'state': 'Roraima', 'count_fire': 362.0},\n",
       " {'state': 'Santa Catarina', 'count_fire': 306.0},\n",
       " {'state': 'Sao Paulo', 'count_fire': 4128.0},\n",
       " {'state': 'Sergipe', 'count_fire': 17.0},\n",
       " {'state': 'Tocantins', 'count_fire': 993.5540000000001}]"
      ]
     },
     "execution_count": 30,
     "metadata": {},
     "output_type": "execute_result"
    }
   ],
   "source": [
    "#year 2000\n",
    "\n",
    "year_info = df[df.year == years[2]]#year[2] indicates year 2000, change index to calculate later years\n",
    "year_info.head(12)\n",
    "\n",
    "single_year_state = []\n",
    "\n",
    "for state in states:\n",
    "    state_name = state\n",
    "    count_fire = year_info[year_info['state'] == state].number.sum()\n",
    "    obj = {\"state\":state_name, \"count_fire\":count_fire}\n",
    "    single_year_state.append(obj)\n",
    "    \n",
    "single_year_state"
   ]
  },
  {
   "cell_type": "code",
   "execution_count": 31,
   "metadata": {},
   "outputs": [
    {
     "data": {
      "text/plain": [
       "[{'state': 'Acre', 'count_fire': 828.0},\n",
       " {'state': 'Alagoas', 'count_fire': 86.0},\n",
       " {'state': 'Amapa', 'count_fire': 1301.0},\n",
       " {'state': 'Amazonas', 'count_fire': 1297.0},\n",
       " {'state': 'Bahia', 'count_fire': 2427.651},\n",
       " {'state': 'Ceara', 'count_fire': 1847.501},\n",
       " {'state': 'Distrito Federal', 'count_fire': 64.0},\n",
       " {'state': 'Espirito Santo', 'count_fire': 130.0},\n",
       " {'state': 'Goias', 'count_fire': 2065.8630000000003},\n",
       " {'state': 'Maranhao', 'count_fire': 720.1370000000001},\n",
       " {'state': 'Mato Grosso', 'count_fire': 3088.075},\n",
       " {'state': 'Minas Gerais', 'count_fire': 2138.5969999999998},\n",
       " {'state': 'Pará', 'count_fire': 834.78},\n",
       " {'state': 'Paraiba', 'count_fire': 2073.0},\n",
       " {'state': 'Pernambuco', 'count_fire': 1080.0},\n",
       " {'state': 'Piau', 'count_fire': 730.76},\n",
       " {'state': 'Rio', 'count_fire': 857.0},\n",
       " {'state': 'Rondonia', 'count_fire': 1004.059},\n",
       " {'state': 'Roraima', 'count_fire': 1309.108},\n",
       " {'state': 'Santa Catarina', 'count_fire': 200.0},\n",
       " {'state': 'Sao Paulo', 'count_fire': 2926.0},\n",
       " {'state': 'Sergipe', 'count_fire': 24.0},\n",
       " {'state': 'Tocantins', 'count_fire': 2039.081}]"
      ]
     },
     "execution_count": 31,
     "metadata": {},
     "output_type": "execute_result"
    }
   ],
   "source": [
    "#year 2001\n",
    "\n",
    "year_info = df[df.year == years[3]]#year[3] indicates year 2001, change index to calculate later years\n",
    "year_info.head(12)\n",
    "\n",
    "single_year_state = []\n",
    "\n",
    "for state in states:\n",
    "    state_name = state\n",
    "    count_fire = year_info[year_info['state'] == state].number.sum()\n",
    "    obj = {\"state\":state_name, \"count_fire\":count_fire}\n",
    "    single_year_state.append(obj)\n",
    "    \n",
    "single_year_state"
   ]
  },
  {
   "cell_type": "code",
   "execution_count": 32,
   "metadata": {},
   "outputs": [
    {
     "data": {
      "text/plain": [
       "[{'state': 'Acre', 'count_fire': 1543.949},\n",
       " {'state': 'Alagoas', 'count_fire': 258.0},\n",
       " {'state': 'Amapa', 'count_fire': 862.096},\n",
       " {'state': 'Amazonas', 'count_fire': 2852.0},\n",
       " {'state': 'Bahia', 'count_fire': 2280.7},\n",
       " {'state': 'Ceara', 'count_fire': 454.10799999999995},\n",
       " {'state': 'Distrito Federal', 'count_fire': 149.0},\n",
       " {'state': 'Espirito Santo', 'count_fire': 297.0},\n",
       " {'state': 'Goias', 'count_fire': 1619.3149999999998},\n",
       " {'state': 'Maranhao', 'count_fire': 530.11},\n",
       " {'state': 'Mato Grosso', 'count_fire': 3665.5029999999997},\n",
       " {'state': 'Minas Gerais', 'count_fire': 1949.929},\n",
       " {'state': 'Pará', 'count_fire': 1265.576},\n",
       " {'state': 'Paraiba', 'count_fire': 2248.6639999999998},\n",
       " {'state': 'Pernambuco', 'count_fire': 1909.0},\n",
       " {'state': 'Piau', 'count_fire': 1503.686},\n",
       " {'state': 'Rio', 'count_fire': 2945.0},\n",
       " {'state': 'Rondonia', 'count_fire': 1452.086},\n",
       " {'state': 'Roraima', 'count_fire': 2224.0},\n",
       " {'state': 'Santa Catarina', 'count_fire': 1715.0},\n",
       " {'state': 'Sao Paulo', 'count_fire': 3539.0},\n",
       " {'state': 'Sergipe', 'count_fire': 208.0},\n",
       " {'state': 'Tocantins', 'count_fire': 1918.8780000000002}]"
      ]
     },
     "execution_count": 32,
     "metadata": {},
     "output_type": "execute_result"
    }
   ],
   "source": [
    "year_info = df[df.year == years[4]]#year[4] indicates year 2002, change index to calculate later years\n",
    "year_info.head(12)\n",
    "\n",
    "single_year_state = []\n",
    "\n",
    "for state in states:\n",
    "    state_name = state\n",
    "    count_fire = year_info[year_info['state'] == state].number.sum()\n",
    "    obj = {\"state\":state_name, \"count_fire\":count_fire}\n",
    "    single_year_state.append(obj)\n",
    "    \n",
    "single_year_state"
   ]
  }
 ],
 "metadata": {
  "kernelspec": {
   "display_name": "Python 3",
   "language": "python",
   "name": "python3"
  },
  "language_info": {
   "codemirror_mode": {
    "name": "ipython",
    "version": 3
   },
   "file_extension": ".py",
   "mimetype": "text/x-python",
   "name": "python",
   "nbconvert_exporter": "python",
   "pygments_lexer": "ipython3",
   "version": "3.7.3"
  }
 },
 "nbformat": 4,
 "nbformat_minor": 2
}
